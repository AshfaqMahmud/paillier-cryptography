{
  "nbformat": 4,
  "nbformat_minor": 0,
  "metadata": {
    "colab": {
      "provenance": []
    },
    "kernelspec": {
      "name": "python3",
      "display_name": "Python 3"
    },
    "language_info": {
      "name": "python"
    }
  },
  "cells": [
    {
      "cell_type": "code",
      "execution_count": 17,
      "metadata": {
        "colab": {
          "base_uri": "https://localhost:8080/"
        },
        "id": "fCK6dN5qucwN",
        "outputId": "f4e89992-db3a-4cba-e7d1-857d081d6bbc"
      },
      "outputs": [
        {
          "output_type": "stream",
          "name": "stdout",
          "text": [
            "Public Key 1: <PaillierPublicKey 97dabc71c8>\n",
            "Private Key 1: <PaillierPrivateKey for <PaillierPublicKey 97dabc71c8>>\n",
            "Public Key 2: <PaillierPublicKey 7fd08fdf45>\n",
            "Private Key 2: <PaillierPrivateKey for <PaillierPublicKey 7fd08fdf45>>\n"
          ]
        }
      ],
      "source": [
        "from phe import paillier\n",
        "\n",
        "def key_generation():\n",
        "    public_key, private_key = paillier.generate_paillier_keypair()\n",
        "    return public_key, private_key\n",
        "\n",
        "# Generate keys for COH1 and COH2\n",
        "public_key1, private_key1 = key_generation()\n",
        "public_key2, private_key2 = key_generation()\n",
        "\n",
        "print(\"Public Key 1:\", public_key1)\n",
        "print(\"Private Key 1:\", private_key1)\n",
        "print(\"Public Key 2:\", public_key2)\n",
        "print(\"Private Key 2:\", private_key2)\n"
      ]
    },
    {
      "cell_type": "code",
      "source": [
        "def encrypt(public_key, dataset):\n",
        "    encrypted_data = [public_key.encrypt(x) for x in dataset]\n",
        "    return encrypted_data\n",
        "\n",
        "# Example dataset\n",
        "dataset = [10, 20, 30, 40]\n",
        "\n",
        "# Encrypt dataset using public keys of COH1 and COH2\n",
        "encrypted_dataset1 = encrypt(public_key1, dataset)\n",
        "encrypted_dataset2 = encrypt(public_key2, dataset)\n",
        "\n",
        "print(\"Encrypted Dataset 1:\", encrypted_dataset1)\n",
        "print(\"Encrypted Dataset 2:\", encrypted_dataset2)\n"
      ],
      "metadata": {
        "colab": {
          "base_uri": "https://localhost:8080/"
        },
        "id": "02thX8ZI_wYB",
        "outputId": "44323870-9d92-4f61-e491-478e3534a63a"
      },
      "execution_count": 18,
      "outputs": [
        {
          "output_type": "stream",
          "name": "stdout",
          "text": [
            "Encrypted Dataset 1: [<phe.paillier.EncryptedNumber object at 0x7c9e5c84a740>, <phe.paillier.EncryptedNumber object at 0x7c9e5c84b490>, <phe.paillier.EncryptedNumber object at 0x7c9e5c84a440>, <phe.paillier.EncryptedNumber object at 0x7c9e5c84ab00>]\n",
            "Encrypted Dataset 2: [<phe.paillier.EncryptedNumber object at 0x7c9e5c84a110>, <phe.paillier.EncryptedNumber object at 0x7c9e6d81d3c0>, <phe.paillier.EncryptedNumber object at 0x7c9e6d81f070>, <phe.paillier.EncryptedNumber object at 0x7c9e5c84b340>]\n"
          ]
        }
      ]
    },
    {
      "cell_type": "code",
      "source": [
        "def decrypt(private_key, encrypted_dataset):\n",
        "    decrypted_data = [private_key.decrypt(x) for x in encrypted_dataset]\n",
        "    return decrypted_data\n",
        "\n",
        "def re_encrypt(public_key, dataset):\n",
        "    re_encrypted_data = [public_key.encrypt(x) for x in dataset]\n",
        "    return re_encrypted_data\n",
        "\n",
        "def fisher_yates_shuffle(arr):\n",
        "    import random\n",
        "    n = len(arr)\n",
        "    for i in range(n-1, 0, -1):\n",
        "        j = random.randint(0, i)\n",
        "        arr[i], arr[j] = arr[j], arr[i]\n",
        "    return arr\n",
        "\n",
        "# First, decrypt the datasets using the private key of COH1\n",
        "decrypted_dataset1 = decrypt(private_key1, encrypted_dataset1)\n",
        "decrypted_dataset2 = decrypt(private_key2, encrypted_dataset2)\n",
        "\n",
        "# Then, re-encrypt the datasets using the public keys of COH2\n",
        "re_encrypted_dataset1 = re_encrypt(public_key2, decrypted_dataset1)\n",
        "re_encrypted_dataset2 = re_encrypt(public_key1, decrypted_dataset2)\n",
        "\n",
        "# Shuffle the re-encrypted datasets\n",
        "shuffled_dataset1 = fisher_yates_shuffle(re_encrypted_dataset1)\n",
        "shuffled_dataset2 = fisher_yates_shuffle(re_encrypted_dataset2)\n",
        "\n",
        "print(\"Shuffled Dataset 1:\", shuffled_dataset1)\n",
        "print(\"Shuffled Dataset 2:\", shuffled_dataset2)\n"
      ],
      "metadata": {
        "colab": {
          "base_uri": "https://localhost:8080/"
        },
        "id": "bnIKEHBA_1J3",
        "outputId": "adc003ce-21a0-4363-fd09-04125df14558"
      },
      "execution_count": 19,
      "outputs": [
        {
          "output_type": "stream",
          "name": "stdout",
          "text": [
            "Shuffled Dataset 1: [<phe.paillier.EncryptedNumber object at 0x7c9e6d81d150>, <phe.paillier.EncryptedNumber object at 0x7c9e6d81e4a0>, <phe.paillier.EncryptedNumber object at 0x7c9e6d81ea40>, <phe.paillier.EncryptedNumber object at 0x7c9e6d81e440>]\n",
            "Shuffled Dataset 2: [<phe.paillier.EncryptedNumber object at 0x7c9e5c84beb0>, <phe.paillier.EncryptedNumber object at 0x7c9e5c84b1f0>, <phe.paillier.EncryptedNumber object at 0x7c9e5c84bdc0>, <phe.paillier.EncryptedNumber object at 0x7c9e5c84ae90>]\n"
          ]
        }
      ]
    },
    {
      "cell_type": "code",
      "source": [
        "def decrypt(private_key, encrypted_dataset):\n",
        "    decrypted_data = [private_key.decrypt(x) for x in encrypted_dataset]\n",
        "    return decrypted_data\n",
        "\n",
        "# Decrypt the shuffled datasets\n",
        "decrypted_shuffled_dataset1 = decrypt(private_key2, shuffled_dataset1)\n",
        "decrypted_shuffled_dataset2 = decrypt(private_key1, shuffled_dataset2)\n",
        "\n",
        "print(\"Decrypted Shuffled Dataset 1:\", decrypted_shuffled_dataset1)\n",
        "print(\"Decrypted Shuffled Dataset 2:\", decrypted_shuffled_dataset2)\n"
      ],
      "metadata": {
        "colab": {
          "base_uri": "https://localhost:8080/"
        },
        "id": "ufrB-dMdAFrO",
        "outputId": "9bb43472-d0da-49e0-e8a2-c934b914d50d"
      },
      "execution_count": 20,
      "outputs": [
        {
          "output_type": "stream",
          "name": "stdout",
          "text": [
            "Decrypted Shuffled Dataset 1: [20, 30, 10, 40]\n",
            "Decrypted Shuffled Dataset 2: [30, 40, 20, 10]\n"
          ]
        }
      ]
    }
  ]
}